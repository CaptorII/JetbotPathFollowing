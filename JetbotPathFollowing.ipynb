{
 "cells": [
  {
   "attachments": {},
   "cell_type": "markdown",
   "metadata": {},
   "source": [
    "# Assessment 2: NVIDIA Jetbot Path Following and Pest Detection\n",
    "### Objective: \n",
    "The objective of this assessment is to evaluate the students' ability to apply and enhance AI models for real-world applications using the NVIDIA Jetbot platform.\n",
    "### Training the Jetbot:\n",
    "You are required to use the NVIDIA Jetbot to train it to follow a predefined path within a specified environment, in this case the classroom following the pink tape.\n",
    "You must document the entire training process, including code, model selection, and training parameters, in a Jupyter notebook.\n",
    "The Jupyter notebook should include comments explaining the rationale behind their choices and any issues they encountered."
   ]
  },
  {
   "cell_type": "code",
   "execution_count": null,
   "metadata": {},
   "outputs": [],
   "source": []
  },
  {
   "attachments": {},
   "cell_type": "markdown",
   "metadata": {},
   "source": [
    "### Inference for Pest Detection:\n",
    "Using the model you have created in Assessment 1 (or a similar one), you must implement inference to detect pests.\n",
    "You need to demonstrate how the Jetbot can identify and respond to pests in real-time during its path following.\n",
    "The Jupyter notebook should contain code for inference and comments explaining the model's performance."
   ]
  },
  {
   "cell_type": "code",
   "execution_count": null,
   "metadata": {},
   "outputs": [],
   "source": []
  },
  {
   "attachments": {},
   "cell_type": "markdown",
   "metadata": {},
   "source": [
    "# Critical Evaluation:\n",
    "You must critically evaluate the accuracy and effectiveness of your trained model for pest detection during infernece.\n",
    "You must offer insightful comments on areas where improvements can be made, such as model accuracy, inference speed, and generalizability.\n",
    "The Jupyter notebook should include a section for this evaluation."
   ]
  },
  {
   "cell_type": "code",
   "execution_count": null,
   "metadata": {},
   "outputs": [],
   "source": []
  },
  {
   "attachments": {},
   "cell_type": "markdown",
   "metadata": {},
   "source": [
    "# Jupyter Notebook:\n",
    "The Jupyter notebook should be well-organized and include clear explanations and comments where required to demonstrate the student's knowledge and thought process."
   ]
  },
  {
   "cell_type": "code",
   "execution_count": null,
   "metadata": {},
   "outputs": [],
   "source": []
  },
  {
   "attachments": {},
   "cell_type": "markdown",
   "metadata": {},
   "source": [
    "# Video Demonstration:\n",
    "You must provide a short (less than 1-minute) video demonstrating the Jetbot in action (using Xbox game bar recording or simlilar). The video should showcase the path following and pest detection aspects."
   ]
  },
  {
   "attachments": {},
   "cell_type": "markdown",
   "metadata": {},
   "source": [
    "Videos go here"
   ]
  }
 ],
 "metadata": {
  "language_info": {
   "name": "python"
  },
  "orig_nbformat": 4
 },
 "nbformat": 4,
 "nbformat_minor": 2
}
